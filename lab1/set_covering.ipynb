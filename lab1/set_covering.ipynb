{
 "cells": [
  {
   "cell_type": "code",
   "execution_count": 1,
   "metadata": {},
   "outputs": [],
   "source": [
    "import random\n",
    "from gx_utils import *"
   ]
  },
  {
   "cell_type": "code",
   "execution_count": 2,
   "metadata": {},
   "outputs": [],
   "source": [
    "def problem(N, seed=None):\n",
    "    random.seed(seed)\n",
    "    return [\n",
    "        list(set(random.randint(0, N - 1) for n in range(random.randint(N // 5, N // 2))))\n",
    "        for n in range(random.randint(N, N * 5))\n",
    "    ]"
   ]
  },
  {
   "cell_type": "code",
   "execution_count": 3,
   "metadata": {},
   "outputs": [],
   "source": [
    "import logging"
   ]
  },
  {
   "cell_type": "code",
   "execution_count": 4,
   "metadata": {},
   "outputs": [],
   "source": [
    "\n",
    "def a_star(N):\n",
    "\n",
    "    def total_cost(state):\n",
    "        g = state[0] #w : the weight of the node\n",
    "        h = N - len(state[1]) #number of element missing to reach the solution\n",
    "        return g + h\n",
    "\n",
    "    node_visited = 0\n",
    "    goal = set(range(N))\n",
    "    covered = frozenset()\n",
    "    solution = list()\n",
    "    frontier = PriorityQueue()\n",
    "    state = (0,covered) # ( w , set )\n",
    "    all_lists = sorted(problem(N, seed=42), key=lambda l: len(l))\n",
    "    cost = lambda s: total_cost(s) #function to compute the cost\n",
    "    for x_list in all_lists: #initial state, popolate the frontier\n",
    "        new_state = (len(x_list),frozenset(x_list))\n",
    "        if new_state not in frontier:\n",
    "            frontier.push(new_state,p = cost(new_state))\n",
    "\n",
    "    state = frontier.pop() #pop the first one\n",
    "    node_visited += 1\n",
    "    \n",
    "\n",
    "    while state[1] != goal and frontier is not None:\n",
    "        for x_list in all_lists:\n",
    "            if frozenset(x_list) not in state[1]: #the list add some coverage to the current state\n",
    "                new_state = (state[0]+len(x_list),state[1] | frozenset(x_list)) #create a new state with the list added\n",
    "                if new_state not in frontier: #if the state is not already in the frontier\n",
    "                    frontier.push(new_state,p = cost(new_state)) #add the state to the frontier\n",
    "        state = frontier.pop() #take the best one from the frontier  \n",
    "        node_visited += 1  #and increment the number of visited node\n",
    "\n",
    "    logging.info(\n",
    "    f\"A* solution for N={N} visiting {node_visited} nodes: w={state[0]} (bloat={(state[0]-N)/N*100:.0f}%)\"\n",
    "    )\n",
    "    logging.debug(f\"{state[1]}\")\n",
    "    return (state)\n",
    " "
   ]
  },
  {
   "cell_type": "code",
   "execution_count": 5,
   "metadata": {},
   "outputs": [
    {
     "name": "stderr",
     "output_type": "stream",
     "text": [
      "INFO:root:A* solution for N=5 visiting 31 nodes: w=5 (bloat=0%)\n",
      "INFO:root:A* solution for N=10 visiting 484 nodes: w=10 (bloat=0%)\n",
      "INFO:root:A* solution for N=20 visiting 3394 nodes: w=23 (bloat=15%)\n"
     ]
    }
   ],
   "source": [
    "logging.getLogger().setLevel(logging.INFO)\n",
    "for N in [5, 10, 20]: #100 or more are not feasible in a reasonable amount of time\n",
    "    a_star(N)"
   ]
  }
 ],
 "metadata": {
  "kernelspec": {
   "display_name": "Python 3.10.7 64-bit",
   "language": "python",
   "name": "python3"
  },
  "language_info": {
   "codemirror_mode": {
    "name": "ipython",
    "version": 3
   },
   "file_extension": ".py",
   "mimetype": "text/x-python",
   "name": "python",
   "nbconvert_exporter": "python",
   "pygments_lexer": "ipython3",
   "version": "3.10.7"
  },
  "orig_nbformat": 4,
  "vscode": {
   "interpreter": {
    "hash": "369f2c481f4da34e4445cda3fffd2e751bd1c4d706f27375911949ba6bb62e1c"
   }
  }
 },
 "nbformat": 4,
 "nbformat_minor": 2
}

{
 "cells": [
  {
   "cell_type": "markdown",
   "metadata": {},
   "source": [
    "## IMPORT"
   ]
  },
  {
   "cell_type": "code",
   "execution_count": 86,
   "metadata": {},
   "outputs": [],
   "source": [
    "import logging\n",
    "from collections import namedtuple\n",
    "import random\n",
    "from typing import Callable\n",
    "from copy import deepcopy\n",
    "from itertools import accumulate\n",
    "from operator import xor\n",
    "import numpy as np"
   ]
  },
  {
   "cell_type": "markdown",
   "metadata": {},
   "source": [
    "## DEFINITION"
   ]
  },
  {
   "cell_type": "code",
   "execution_count": 87,
   "metadata": {},
   "outputs": [],
   "source": [
    "Nimply = namedtuple(\"Nimply\", \"row, num_objects\")\n",
    "#this is the \"turn\" that each strategy use. row is the index of the row i want to take elements from, num_objects the number of objects to take"
   ]
  },
  {
   "cell_type": "code",
   "execution_count": 89,
   "metadata": {},
   "outputs": [],
   "source": [
    "class Nim:\n",
    "    def __init__(self, num_rows: int, k: int = None) -> None:\n",
    "        self._rows = [i * 2 + 1 for i in range(num_rows)]\n",
    "        self._k = k\n",
    "\n",
    "    def __bool__(self):\n",
    "        return sum(self._rows) > 0\n",
    "\n",
    "    def __str__(self):\n",
    "        return \"<\" + \" \".join(str(_) for _ in self._rows) + \">\"\n",
    "\n",
    "    @property\n",
    "    def rows(self) -> tuple:\n",
    "        return tuple(self._rows)\n",
    "\n",
    "    @property\n",
    "    def k(self) -> int:\n",
    "        return self._k\n",
    "\n",
    "    def nimming(self, ply: Nimply) -> None:\n",
    "        row, num_objects = ply\n",
    "        assert self._rows[row] >= num_objects\n",
    "        assert self._k is None or num_objects <= self._k\n",
    "        self._rows[row] -= num_objects"
   ]
  },
  {
   "cell_type": "code",
   "execution_count": 91,
   "metadata": {},
   "outputs": [],
   "source": [
    "def nim_sum(state: Nim) -> int:\n",
    "    *_, result = accumulate(state.rows, xor)\n",
    "    return result\n",
    "\n",
    "def cook_status(state: Nim) -> dict:\n",
    "    cooked = dict()\n",
    "    cooked[\"possible_moves\"] = [\n",
    "        (r, o) for r, c in enumerate(state.rows) for o in range(1, c + 1) if state.k is None or o <= state.k\n",
    "    ]\n",
    "    cooked[\"active_rows_number\"] = sum(o > 0 for o in state.rows)\n",
    "    cooked[\"shortest_row\"] = min((x for x in enumerate(state.rows) if x[1] > 0), key=lambda y: y[1])[0]\n",
    "    cooked[\"longest_row\"] = max((x for x in enumerate(state.rows)), key=lambda y: y[1])[0]\n",
    "    cooked[\"random_row\"] = random.choice( [ r for r , c in enumerate(state.rows) if c > 0 ] )\n",
    "    cooked[\"nim_sum\"] = nim_sum(state)\n",
    "\n",
    "    brute_force = list()\n",
    "    for m in cooked[\"possible_moves\"]:\n",
    "        tmp = deepcopy(state)\n",
    "        tmp.nimming(m)\n",
    "        brute_force.append((m, nim_sum(tmp)))\n",
    "    cooked[\"brute_force\"] = brute_force\n",
    "\n",
    "    return cooked"
   ]
  },
  {
   "cell_type": "markdown",
   "metadata": {},
   "source": [
    "## HARD CODED STRATEGY"
   ]
  },
  {
   "cell_type": "code",
   "execution_count": 92,
   "metadata": {},
   "outputs": [],
   "source": [
    "def pure_random(state: Nim) -> Nimply:\n",
    "    row = random.choice( [ r for r , c in enumerate(state.rows) if c > 0 ] )\n",
    "    num_objects = random.randint(1,state.rows[row])\n",
    "    return Nimply(row,num_objects)\n",
    "\n"
   ]
  },
  {
   "cell_type": "code",
   "execution_count": 6,
   "metadata": {},
   "outputs": [],
   "source": [
    "def greedy_untill_less_than_two_rows(state: Nim) -> Nimply:\n",
    "    rows_av = [(r,c) for r , c in enumerate(state.rows) if c > 0]\n",
    "    match len(rows_av):\n",
    "        case 1:\n",
    "            (row,num_objects) = rows_av[0] #take the last available row, and all the object in it\n",
    "            return Nimply(row,num_objects) #you have just won!\n",
    "\n",
    "        case 2:\n",
    "            (row,_) = max(rows_av, key=lambda tup:tup[1]) #take the row with the greater number of elements\n",
    "            return Nimply(row,1) #take only one element\n",
    "\n",
    "        case _:\n",
    "            (row,num_objects) = rows_av[0] #take the first available row and all the object in it\n",
    "            return Nimply(row,num_objects)\n",
    "    \n"
   ]
  },
  {
   "cell_type": "markdown",
   "metadata": {},
   "source": [
    "## EVOLVABLE STRATEGY"
   ]
  },
  {
   "cell_type": "code",
   "execution_count": 93,
   "metadata": {},
   "outputs": [
    {
     "data": {
      "text/plain": [
       "{0.0: 22.0, 1.0: 28.0, 2.0: 28.0, 3.0: 7.0, 4.0: 10.0, 5.0: 5.0}"
      ]
     },
     "execution_count": 93,
     "metadata": {},
     "output_type": "execute_result"
    }
   ],
   "source": [
    "def make_strategy(genome: dict) -> Callable:\n",
    "    def check_function_create(random_number)-> Callable:\n",
    "            probability_range=0\n",
    "            def check_function(probability):\n",
    "                nonlocal probability_range\n",
    "                if probability == 0: #check to avoid calling the move with probability = 0 when confronting with random number = 0\n",
    "                    return False\n",
    "                if (probability+probability_range) >= random_number:\n",
    "                    return True\n",
    "                probability_range= probability_range + probability\n",
    "                return False\n",
    "            return check_function\n",
    "    def evolvable(state: Nim) -> Nimply:\n",
    "        data = cook_status(state)\n",
    "#what is p? a vector of probability?\n",
    "#or better, a vector of interval\n",
    "#if random is in that interval, than that move is choosen\n",
    "        #probability_vector = genome[\"p\"]\n",
    "        random_number = random.random()*100\n",
    "        check_function = check_function_create( random_number )\n",
    "        move = next(move_number for  move_number , move_probability in genome.items() if check_function(move_probability))\n",
    "        match move:\n",
    "            case 0:\n",
    "                ply = Nimply(data[\"shortest_row\"], random.randint(1, state.rows[data[\"shortest_row\"]]))\n",
    "            case 1:\n",
    "                ply = Nimply(data[\"shortest_row\"], 1)\n",
    "            case 2:\n",
    "                ply = Nimply(data[\"shortest_row\"], state.rows[data[\"shortest_row\"]])\n",
    "            case 3:\n",
    "                ply = Nimply(data[\"longest_row\"], random.randint(1, state.rows[data[\"longest_row\"]]))\n",
    "            case 4:\n",
    "                ply = Nimply(data[\"longest_row\"], 1)\n",
    "            case 5:\n",
    "                ply = Nimply(data[\"longest_row\"], state.rows[data[\"longest_row\"]])\n",
    "\n",
    "            case _:\n",
    "\n",
    "                assert False,f\"cannot find a move in the probability range with rand:{random_number} and genome:{genome}\"\n",
    "        return ply\n",
    "\n",
    "    return evolvable\n",
    "\n",
    "def evolve(genome: dict, slew_rate) -> dict:\n",
    "    new_genome = deepcopy(genome)\n",
    "    total_probability=0\n",
    "    \n",
    "    for  move_number , move_probability in new_genome.items():\n",
    "        random_number = random.random()\n",
    "        \n",
    "        if random_number > 0.9:\n",
    "            new_genome[move_number] = new_genome[move_number]+ (2*slew_rate)\n",
    "        elif random_number > 0.5:\n",
    "            new_genome[move_number] = new_genome[move_number]+ (slew_rate)\n",
    "        elif random_number >0.1:\n",
    "            new_genome[move_number] = new_genome[move_number]- (slew_rate)\n",
    "        else:\n",
    "            new_genome[move_number] = new_genome[move_number]- (slew_rate)\n",
    "        if new_genome[move_number] < 0 :\n",
    "            new_genome[move_number] = 0\n",
    "        \n",
    "        total_probability = total_probability + new_genome[move_number]\n",
    "    divisor = total_probability / 100\n",
    "    result = dict(np.apply_along_axis(lambda val: [val[0] , val[1] / divisor], 1, np.array(list(new_genome.items()))))\n",
    "    return result\n"
   ]
  },
  {
   "cell_type": "code",
   "execution_count": 94,
   "metadata": {},
   "outputs": [],
   "source": [
    "NUM_MATCHES = 100\n",
    "NIM_SIZE = 10\n",
    "\n",
    "\n",
    "def evaluate(strategy1: Callable , strategy2: Callable) -> float:\n",
    "    opponent = (strategy1, strategy2)\n",
    "    won = 0\n",
    "\n",
    "    for m in range(NUM_MATCHES):\n",
    "        nim = Nim(NIM_SIZE)\n",
    "        player = 0\n",
    "        while nim:\n",
    "            ply = opponent[player](nim)\n",
    "            nim.nimming(ply)\n",
    "            player = 1 - player\n",
    "        if player == 1:\n",
    "            won += 1\n",
    "    return won / NUM_MATCHES"
   ]
  },
  {
   "cell_type": "code",
   "execution_count": 9,
   "metadata": {},
   "outputs": [
    {
     "data": {
      "text/plain": [
       "0.45"
      ]
     },
     "execution_count": 9,
     "metadata": {},
     "output_type": "execute_result"
    }
   ],
   "source": [
    "\n",
    "\n",
    "strat_1 ={ k: v for  k, v in enumerate([25,25,25,10,7,8]) }\n",
    "strat_2 ={ k: v for  k, v in enumerate([25,25,25,10,7,8]) }\n",
    "evaluate(make_strategy(strat_1),make_strategy(strat_2))"
   ]
  },
  {
   "cell_type": "code",
   "execution_count": 81,
   "metadata": {},
   "outputs": [],
   "source": [
    "POPULATION_SIZE = 10\n",
    "POPULATION_SURVIVORS = 5\n",
    "ITERATION_MAX = 25\n",
    "WIN_THRESHOLD = 0.8\n",
    "adapt_rate = 3\n",
    "\n",
    "#NOT USED!!!\n",
    "def evolve_strategy(start_genome: dict) -> Callable:\n",
    "    base_strategy = make_strategy(start_genome)\n",
    "    fitness=0\n",
    "    iteration_n = 0\n",
    "    genome_top = []\n",
    "    strategy_top = []\n",
    "    genome_top.append(deepcopy(start_genome))\n",
    "    strategy_top.append(deepcopy(base_strategy))\n",
    "    #for i in range(POPULATION_SURVIVORS):\n",
    "    #    genome_top.append(deepcopy(start_genome))\n",
    "    #    strategy_top.append(deepcopy(base_strategy))\n",
    "    genome_best = start_genome\n",
    "    while fitness < WIN_THRESHOLD and iteration_n < ITERATION_MAX:\n",
    "        iteration_n = iteration_n + 1 \n",
    "        genome_pop = []\n",
    "        strategy_pop = []\n",
    "        for i in range(POPULATION_SIZE):\n",
    "            genome_tmp = random.choice(genome_top)\n",
    "            genome_pop.append(evolve(genome_tmp,adapt_rate))\n",
    "            strategy_pop.append(make_strategy(genome_pop[i]))\n",
    "        genome_fitness = np.zeros(POPULATION_SIZE)\n",
    "        for i in range(POPULATION_SIZE):\n",
    "            for j in range(POPULATION_SIZE):\n",
    "                if j != i:\n",
    "                    if evaluate(strategy_pop[i],strategy_pop[j]) > 0.5:\n",
    "                        genome_fitness[i] = genome_fitness[i]+1\n",
    "\n",
    "        best = genome_fitness.argmax()\n",
    "        genome_best = genome_pop[best]\n",
    "        strategy_best = strategy_pop[best]\n",
    "        if len(genome_top) < POPULATION_SURVIVORS:\n",
    "            genome_top.append(genome_best)\n",
    "            strategy_top.append(strategy_best)\n",
    "        else:\n",
    "            new_genome_result = np.zeros(POPULATION_SURVIVORS)\n",
    "            is_better = False\n",
    "            for i in range(POPULATION_SURVIVORS):\n",
    "                new_genome_result[i]=evaluate(strategy_best,strategy_top[i])\n",
    "                if new_genome_result[i] > 0.5 : \n",
    "                    is_better=True\n",
    "            if is_better:\n",
    "                replace = new_genome_result.argmax()\n",
    "                genome_top[replace] = genome_best\n",
    "                strategy_top[replace] = strategy_best\n",
    "        fitness = evaluate(strategy_best,base_strategy)\n",
    "        #print(f\"win rate:{fitness}, genome: {genome_best}\")\n",
    "\n",
    "    genome_fitness = np.zeros(POPULATION_SURVIVORS)\n",
    "    for i in range(POPULATION_SIZE):\n",
    "            genome_fitness[i] =evaluate(strategy_top[i],base_strategy)\n",
    "    best = genome_fitness.argmax()\n",
    "    fitness = genome_fitness[best]\n",
    "    genome_best = genome_top[best]\n",
    "    print(f\"FINAL win rate:{fitness}, genome: {genome_best}\")\n",
    "\n"
   ]
  },
  {
   "cell_type": "code",
   "execution_count": 136,
   "metadata": {},
   "outputs": [],
   "source": [
    "ITERATION_MAX = 500\n",
    "WIN_THRESHOLD = 0.8\n",
    "def evolve_against_one_opponent(genome_opponent: dict, genome_base: list, learning_rate: float) -> dict:\n",
    "    opponent_strategy = make_strategy(genome_opponent)\n",
    "    population_size = len(genome_base)\n",
    "    genome_population = []\n",
    "    strategy_population = []\n",
    "    fitness_population = np.zeros(population_size)\n",
    "    #create a base population\n",
    "    for i in range(population_size):\n",
    "        genome_tmp = random.choice(genome_base)\n",
    "        genome_population.append(deepcopy(genome_base[i]))\n",
    "        strategy_population.append(make_strategy(genome_population[i]))\n",
    "        fitness_population[i] = evaluate(strategy_population[i],opponent_strategy)\n",
    "    \n",
    "    fitness=0\n",
    "    iteration_n = 0\n",
    "    while fitness < WIN_THRESHOLD and iteration_n < ITERATION_MAX:\n",
    "        iteration_n = iteration_n + 1 \n",
    "        genome_tmp = evolve(random.choice(genome_population), learning_rate)\n",
    "        strategy_tmp = make_strategy(genome_tmp)\n",
    "        fitness_tmp = evaluate(strategy_tmp,opponent_strategy)\n",
    "        swap_list = [i for i,win_r in enumerate(list(fitness_population)) if win_r < fitness_tmp]\n",
    "        \n",
    "        if swap_list:\n",
    "            swap = random.choice(swap_list)\n",
    "            genome_population[swap] = genome_tmp\n",
    "            strategy_population[swap] = strategy_tmp\n",
    "            fitness_population[swap] = fitness_tmp\n",
    "            fitness = fitness_tmp\n",
    "    best = fitness_population.argmax()\n",
    "    return {\"best\":(fitness_population[best], genome_population[best]) , \"list\": genome_population}"
   ]
  },
  {
   "cell_type": "code",
   "execution_count": 137,
   "metadata": {},
   "outputs": [
    {
     "name": "stdout",
     "output_type": "stream",
     "text": [
      "against dumb: win rate=0.91 with genome={0.0: 3.1141868512110724, 1.0: 25.259515570934255, 2.0: 25.951557093425606, 3.0: 14.532871972318338, 4.0: 12.45674740484429, 5.0: 18.685121107266436}\n",
      "against better: win rate=0.74 with genome={0.0: 0.0, 1.0: 7.373593843173378, 2.0: 28.895989853752965, 3.0: 4.545454545454545, 4.0: 0.0, 5.0: 59.18496175761911}\n",
      "against better: win rate=0.59 with genome={0.0: 9.315385724551284, 1.0: 0.0, 2.0: 51.737426290467695, 3.0: 0.0, 4.0: 13.460932536116694, 5.0: 25.486255448864327}\n",
      "against better: win rate=0.64 with genome={0.0: 15.994248468405104, 1.0: 3.999999999999999, 2.0: 39.61959132661733, 3.0: 7.68321738490266, 4.0: 0.0, 5.0: 32.70294282007489}\n",
      "against better: win rate=0.65 with genome={0.0: 4.226343985975054, 1.0: 4.0612854767747075, 2.0: 47.07311389511988, 3.0: 16.889145492420397, 4.0: 0.0, 5.0: 27.750111149709962}\n",
      "against better: win rate=0.67 with genome={0.0: 4.166666666666667, 1.0: 0.0, 2.0: 45.056575537144596, 3.0: 16.32876160086293, 4.0: 0.0, 5.0: 34.44799619532581}\n",
      "start vs finish: 0.65\n"
     ]
    }
   ],
   "source": [
    "genome_list = []\n",
    "for i in range(10):\n",
    "    genome_tmp = {k: v for  k, v in enumerate([random.randint(0,100),random.randint(0,100),random.randint(0,100),random.randint(0,100),random.randint(0,100),random.randint(0,100)])}\n",
    "    genome_list.append(evolve(genome_tmp,1)) #to get the total probability back to 100%\n",
    "dumb_opponent = {k: v for  k, v in enumerate([0,100,0,0,0,0])} #take always only one from the shortest row\n",
    "result = evolve_against_one_opponent(dumb_opponent,genome_list,5)\n",
    "genome_list = result[\"list\"]\n",
    "\n",
    "print(f\"against dumb: win rate={result['best'][0]} with genome={result['best'][1]}\")\n",
    "start_genome = result['best'][1]\n",
    "for i in range(5):\n",
    "    better_opponent = result[\"best\"][1]\n",
    "    result = evolve_against_one_opponent(better_opponent,genome_list,5)\n",
    "    genome_list = result[\"list\"]\n",
    "    better_opponent = result[\"best\"][1]\n",
    "    print(f\"against better: win rate={result['best'][0]} with genome={better_opponent}\")\n",
    "print(f\"start vs finish: { evaluate(make_strategy(better_opponent),make_strategy(start_genome)) }\")"
   ]
  }
 ],
 "metadata": {
  "kernelspec": {
   "display_name": "Python 3.10.7 64-bit",
   "language": "python",
   "name": "python3"
  },
  "language_info": {
   "codemirror_mode": {
    "name": "ipython",
    "version": 3
   },
   "file_extension": ".py",
   "mimetype": "text/x-python",
   "name": "python",
   "nbconvert_exporter": "python",
   "pygments_lexer": "ipython3",
   "version": "3.10.7"
  },
  "orig_nbformat": 4,
  "vscode": {
   "interpreter": {
    "hash": "369f2c481f4da34e4445cda3fffd2e751bd1c4d706f27375911949ba6bb62e1c"
   }
  }
 },
 "nbformat": 4,
 "nbformat_minor": 2
}

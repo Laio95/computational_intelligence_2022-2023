{
 "cells": [
  {
   "cell_type": "code",
   "execution_count": 1,
   "metadata": {},
   "outputs": [],
   "source": [
    "import random\n",
    "from gx_utils import *\n",
    "import numpy as np"
   ]
  },
  {
   "cell_type": "code",
   "execution_count": 2,
   "metadata": {},
   "outputs": [],
   "source": [
    "def problem(N, seed=None):\n",
    "    random.seed(seed)\n",
    "    return [\n",
    "        list(set(random.randint(0, N - 1) for n in range(random.randint(N // 5, N // 2))))\n",
    "        for n in range(random.randint(N, N * 5))\n",
    "    ]"
   ]
  },
  {
   "cell_type": "code",
   "execution_count": 3,
   "metadata": {},
   "outputs": [],
   "source": [
    "import logging\n",
    "\n",
    "\n",
    "def greedy(N):\n",
    "    goal = set(range(N))\n",
    "    covered = set()\n",
    "    solution = list()\n",
    "    all_lists = sorted(problem(N, seed=42), key=lambda l: len(l))\n",
    "    while goal != covered:\n",
    "        x = all_lists.pop(0)\n",
    "        if not set(x) < covered:\n",
    "            solution.append(x)\n",
    "            covered |= set(x)\n",
    "\n",
    "    logging.info(\n",
    "        f\"Greedy solution for N={N}: w={sum(len(_) for _ in solution)} (bloat={(sum(len(_) for _ in solution)-N)/N*100:.0f}%)\"\n",
    "    )\n",
    "    logging.debug(f\"{solution}\")"
   ]
  },
  {
   "cell_type": "code",
   "execution_count": 4,
   "metadata": {},
   "outputs": [],
   "source": [
    "\n",
    "def depth_first(N):\n",
    "    goal = set(range(N))\n",
    "    covered = set()\n",
    "    solution = list()\n",
    "    frontier = list()\n",
    "    all_lists = sorted(problem(N, seed=42), key=lambda l: len(l))\n",
    "    def build_solution_recursive(solution,covered,all_lists):\n",
    "        #return solution\n",
    "        #print(f\"solution:{solution}\")\n",
    "        if goal == covered: #terminal condition\n",
    "            #print(\"found!\")\n",
    "            return solution\n",
    "        for i,x in enumerate(all_lists):\n",
    "            next_all_lists = all_lists.copy() #create a copy of the list[list]\n",
    "            next_list = next_all_lists.pop(i) #then pop the next list\n",
    "            if not set(next_list) < covered: #if next list add some new number to my solution\n",
    "                #make a (shallow) copy of my state and update that one\n",
    "                next_covered = covered.copy()\n",
    "                next_covered |= set(next_list)\n",
    "                next_solution = solution.copy()\n",
    "                next_solution.append(next_list)\n",
    "                return build_solution_recursive(next_solution,next_covered,next_all_lists)\n",
    "        return list() #no solution\n",
    "\n",
    "    solution = build_solution_recursive(solution,covered,all_lists)\n",
    "    logging.info(\n",
    "        f\"depth first solution for N={N}: w={sum(len(_) for _ in solution)} (bloat={(sum(len(_) for _ in solution)-N)/N*100:.0f}%)\"\n",
    "    )\n",
    "    logging.debug(f\"{solution}\")\n",
    "\n",
    "\n"
   ]
  },
  {
   "cell_type": "code",
   "execution_count": 5,
   "metadata": {},
   "outputs": [],
   "source": [
    "\n",
    "def breadth_first(N):\n",
    "    goal = set(range(N))\n",
    "    all_lists = sorted(problem(N, seed=42), key=lambda l: len(l))\n",
    "    def build_solution(goal, all_lists):\n",
    "        node_visited = 0\n",
    "        covered = set()\n",
    "        solution = list()\n",
    "        frontier = list() # ( solution , covered, all_lists)\n",
    "        #first step needed for initial state in recursive function\n",
    "        for i,x in enumerate(all_lists):\n",
    "                next_all_lists = all_lists.copy() #create a copy of the list[list]\n",
    "                next_list = next_all_lists.pop(i) #then pop the next list\n",
    "                if not set(next_list) < covered: #if next list add some new number to my solution\n",
    "                    #make a (shallow) copy of my state and update that one\n",
    "                    next_covered = covered.copy()\n",
    "                    next_covered |= set(next_list)\n",
    "                    next_solution = solution.copy()\n",
    "                    next_solution.append(next_list)\n",
    "                    frontier.append((next_solution,next_covered,next_all_lists))\n",
    "        while len(frontier):\n",
    "            (solution,covered,all_lists) = frontier.pop(0)\n",
    "            node_visited +=1\n",
    "            if covered == goal:\n",
    "                return (solution,node_visited)\n",
    "            for i,x in enumerate(all_lists):\n",
    "                next_all_lists = all_lists.copy() #create a copy of the list[list]\n",
    "                next_list = next_all_lists.pop(i) #then pop the next list\n",
    "                if not set(next_list) < covered: #if next list add some new number to my solution\n",
    "                    #make a (shallow) copy of my state and update that one\n",
    "                    next_covered = covered.copy()\n",
    "                    next_covered |= set(next_list)\n",
    "                    next_solution = solution.copy()\n",
    "                    next_solution.append(next_list)\n",
    "                    frontier.append((next_solution,next_covered,next_all_lists))\n",
    "        return (list(),node_visited)\n",
    "        \n",
    "    \n",
    "\n",
    "    (solution,node_visited) = build_solution(goal, all_lists)\n",
    "\n",
    "    logging.info(\n",
    "        f\"breadth first solution for N={N}: visiting {node_visited} nodes, w={sum(len(_) for _ in solution)} (bloat={(sum(len(_) for _ in solution)-N)/N*100:.0f}%)\"\n",
    "    )\n",
    "    logging.debug(f\"{solution}\")"
   ]
  },
  {
   "cell_type": "code",
   "execution_count": 18,
   "metadata": {},
   "outputs": [
    {
     "name": "stderr",
     "output_type": "stream",
     "text": [
      "INFO:root:A* solution for N=5 visiting 30 nodes: w=5 (bloat=0%)\n"
     ]
    }
   ],
   "source": [
    "\n",
    "from types import new_class\n",
    "\n",
    "\n",
    "def a_star(N):\n",
    "\n",
    "    def total_cost(state):\n",
    "        g = state[0]\n",
    "        h = N-len(state[1])\n",
    "        return g + h\n",
    "\n",
    "    node_visited = 0\n",
    "    goal = set(range(N))\n",
    "    covered = frozenset()\n",
    "    solution = list()\n",
    "    frontier = PriorityQueue()\n",
    "    state = covered\n",
    "    all_lists = sorted(problem(N, seed=42), key=lambda l: len(l))\n",
    "    #print(all_lists)\n",
    "    for x_list in all_lists: #initial state\n",
    "        new_state = (len(x_list),frozenset(x_list))\n",
    "        cost = lambda s: total_cost(s)\n",
    "        if new_state not in frontier:\n",
    "            frontier.push(new_state,p = cost(new_state))\n",
    "            #print(f\"add to frontier:{new_state} with cost:{cost(new_state)}\")\n",
    "\n",
    "    state = frontier.pop()\n",
    "    cost = lambda s: total_cost(s)\n",
    "    while state[1] != goal and frontier is not None:\n",
    "        for x_list in all_lists:\n",
    "            if frozenset(x_list) not in state[1]: #the list add some coverage to the current state\n",
    "                #new_covered = frozenset().union(state[1],)\n",
    "                #print(new_covered)\n",
    "                new_state = (state[0]+len(x_list),state[1] | frozenset(x_list))\n",
    "                if new_state not in frontier:\n",
    "                    frontier.push(new_state,p = cost(new_state))\n",
    "                    #print(f\"add to frontier:{new_state} with cost:{cost(new_state)}\")\n",
    "                #else:\n",
    "                #    print(f\"{x_list} already in frontier\")\n",
    "            #else:\n",
    "            #    print(f\"{x_list} doesn't add new number to {state[1]}\")\n",
    "        state = frontier.pop()  \n",
    "        node_visited += 1  \n",
    "        #print(f\"expanding: {state} with cost:{cost(state)}\")\n",
    "    logging.info(\n",
    "    f\"A* solution for N={N} visiting {node_visited} nodes: w={w} (bloat={(w-N)/N*100:.0f}%)\"\n",
    "    )\n",
    "    logging.debug(f\"{state[1]}\")\n",
    "    return (state)\n",
    "N=5\n",
    "#(w,solution)= a_star(5)\n",
    "#logging.info(\n",
    "#    f\"A* solution for N={N} visiting {node_visited} nodes: w={w} (bloat={(w-N)/N*100:.0f}%)\"\n",
    "#)\n",
    "#logging.debug(f\"{solution}\")\n",
    " "
   ]
  },
  {
   "cell_type": "code",
   "execution_count": 19,
   "metadata": {},
   "outputs": [
    {
     "name": "stderr",
     "output_type": "stream",
     "text": [
      "INFO:root:Greedy solution for N=5: w=5 (bloat=0%)\n",
      "INFO:root:Greedy solution for N=10: w=13 (bloat=30%)\n",
      "INFO:root:Greedy solution for N=20: w=46 (bloat=130%)\n"
     ]
    }
   ],
   "source": [
    "logging.getLogger().setLevel(logging.INFO)\n",
    "for N in [5, 10, 20]:\n",
    "    greedy(N)\n",
    "    a_star(N)"
   ]
  },
  {
   "cell_type": "code",
   "execution_count": 7,
   "metadata": {},
   "outputs": [
    {
     "name": "stderr",
     "output_type": "stream",
     "text": [
      "INFO:root:Greedy solution for N=1000: w=4652 (bloat=365%)\n",
      "INFO:root:Greedy solution for N=1000: w=4652 (bloat=365%)\n",
      "INFO:root:Greedy solution for N=1000: w=4652 (bloat=365%)\n",
      "INFO:root:Greedy solution for N=1000: w=4652 (bloat=365%)\n",
      "INFO:root:Greedy solution for N=1000: w=4652 (bloat=365%)\n",
      "INFO:root:Greedy solution for N=1000: w=4652 (bloat=365%)\n",
      "INFO:root:Greedy solution for N=1000: w=4652 (bloat=365%)\n",
      "INFO:root:Greedy solution for N=1000: w=4652 (bloat=365%)\n"
     ]
    },
    {
     "name": "stdout",
     "output_type": "stream",
     "text": [
      "874 ms ± 161 ms per loop (mean ± std. dev. of 7 runs, 1 loop each)\n"
     ]
    }
   ],
   "source": [
    "%timeit greedy(1_000)"
   ]
  }
 ],
 "metadata": {
  "kernelspec": {
   "display_name": "Python 3.10.7 64-bit",
   "language": "python",
   "name": "python3"
  },
  "language_info": {
   "codemirror_mode": {
    "name": "ipython",
    "version": 3
   },
   "file_extension": ".py",
   "mimetype": "text/x-python",
   "name": "python",
   "nbconvert_exporter": "python",
   "pygments_lexer": "ipython3",
   "version": "3.10.7"
  },
  "orig_nbformat": 4,
  "vscode": {
   "interpreter": {
    "hash": "369f2c481f4da34e4445cda3fffd2e751bd1c4d706f27375911949ba6bb62e1c"
   }
  }
 },
 "nbformat": 4,
 "nbformat_minor": 2
}

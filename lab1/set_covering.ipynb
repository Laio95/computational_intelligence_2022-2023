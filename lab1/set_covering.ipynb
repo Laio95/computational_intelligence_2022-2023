{
 "cells": [
  {
   "cell_type": "code",
   "execution_count": 1,
   "metadata": {},
   "outputs": [],
   "source": [
    "import random\n",
    "from gx_utils import *\n",
    "import numpy as np"
   ]
  },
  {
   "cell_type": "code",
   "execution_count": 2,
   "metadata": {},
   "outputs": [],
   "source": [
    "def problem(N, seed=None):\n",
    "    random.seed(seed)\n",
    "    return [\n",
    "        list(set(random.randint(0, N - 1) for n in range(random.randint(N // 5, N // 2))))\n",
    "        for n in range(random.randint(N, N * 5))\n",
    "    ]"
   ]
  },
  {
   "cell_type": "code",
   "execution_count": 3,
   "metadata": {},
   "outputs": [],
   "source": [
    "import logging\n",
    "\n",
    "\n",
    "def greedy(N):\n",
    "    goal = set(range(N))\n",
    "    covered = set()\n",
    "    solution = list()\n",
    "    all_lists = sorted(problem(N, seed=42), key=lambda l: len(l))\n",
    "    while goal != covered:\n",
    "        x = all_lists.pop(0)\n",
    "        if not set(x) < covered:\n",
    "            solution.append(x)\n",
    "            covered |= set(x)\n",
    "\n",
    "    logging.info(\n",
    "        f\"Greedy solution for N={N}: w={sum(len(_) for _ in solution)} (bloat={(sum(len(_) for _ in solution)-N)/N*100:.0f}%)\"\n",
    "    )\n",
    "    logging.debug(f\"{solution}\")"
   ]
  },
  {
   "cell_type": "code",
   "execution_count": 4,
   "metadata": {},
   "outputs": [],
   "source": [
    "\n",
    "def depth_first(N):\n",
    "    goal = set(range(N))\n",
    "    covered = set()\n",
    "    solution = list()\n",
    "    frontier = list()\n",
    "    all_lists = sorted(problem(N, seed=42), key=lambda l: len(l))\n",
    "    def build_solution_recursive(solution,covered,all_lists):\n",
    "        #return solution\n",
    "        #print(f\"solution:{solution}\")\n",
    "        if goal == covered: #terminal condition\n",
    "            #print(\"found!\")\n",
    "            return solution\n",
    "        for i,x in enumerate(all_lists):\n",
    "            next_all_lists = all_lists.copy() #create a copy of the list[list]\n",
    "            next_list = next_all_lists.pop(i) #then pop the next list\n",
    "            if not set(next_list) < covered: #if next list add some new number to my solution\n",
    "                #make a (shallow) copy of my state and update that one\n",
    "                next_covered = covered.copy()\n",
    "                next_covered |= set(next_list)\n",
    "                next_solution = solution.copy()\n",
    "                next_solution.append(next_list)\n",
    "                return build_solution_recursive(next_solution,next_covered,next_all_lists)\n",
    "        return list() #no solution\n",
    "\n",
    "    solution = build_solution_recursive(solution,covered,all_lists)\n",
    "    logging.info(\n",
    "        f\"depth first solution for N={N}: w={sum(len(_) for _ in solution)} (bloat={(sum(len(_) for _ in solution)-N)/N*100:.0f}%)\"\n",
    "    )\n",
    "    logging.debug(f\"{solution}\")\n",
    "\n",
    "\n"
   ]
  },
  {
   "cell_type": "code",
   "execution_count": 5,
   "metadata": {},
   "outputs": [],
   "source": [
    "\n",
    "def breadth_first(N):\n",
    "    goal = set(range(N))\n",
    "    all_lists = sorted(problem(N, seed=42), key=lambda l: len(l))\n",
    "    def build_solution(goal, all_lists):\n",
    "        node_visited = 0\n",
    "        covered = set()\n",
    "        solution = list()\n",
    "        frontier = list() # ( solution , covered, all_lists)\n",
    "        #first step needed for initial state in recursive function\n",
    "        for i,x in enumerate(all_lists):\n",
    "                next_all_lists = all_lists.copy() #create a copy of the list[list]\n",
    "                next_list = next_all_lists.pop(i) #then pop the next list\n",
    "                if not set(next_list) < covered: #if next list add some new number to my solution\n",
    "                    #make a (shallow) copy of my state and update that one\n",
    "                    next_covered = covered.copy()\n",
    "                    next_covered |= set(next_list)\n",
    "                    next_solution = solution.copy()\n",
    "                    next_solution.append(next_list)\n",
    "                    frontier.append((next_solution,next_covered,next_all_lists))\n",
    "        while len(frontier):\n",
    "            (solution,covered,all_lists) = frontier.pop(0)\n",
    "            node_visited +=1\n",
    "            if covered == goal:\n",
    "                return (solution,node_visited)\n",
    "            for i,x in enumerate(all_lists):\n",
    "                next_all_lists = all_lists.copy() #create a copy of the list[list]\n",
    "                next_list = next_all_lists.pop(i) #then pop the next list\n",
    "                if not set(next_list) < covered: #if next list add some new number to my solution\n",
    "                    #make a (shallow) copy of my state and update that one\n",
    "                    next_covered = covered.copy()\n",
    "                    next_covered |= set(next_list)\n",
    "                    next_solution = solution.copy()\n",
    "                    next_solution.append(next_list)\n",
    "                    frontier.append((next_solution,next_covered,next_all_lists))\n",
    "        return (list(),node_visited)\n",
    "        \n",
    "    \n",
    "\n",
    "    (solution,node_visited) = build_solution(goal, all_lists)\n",
    "\n",
    "    logging.info(\n",
    "        f\"breadth first solution for N={N}: visiting {node_visited} nodes, w={sum(len(_) for _ in solution)} (bloat={(sum(len(_) for _ in solution)-N)/N*100:.0f}%)\"\n",
    "    )\n",
    "    logging.debug(f\"{solution}\")"
   ]
  },
  {
   "cell_type": "code",
   "execution_count": 38,
   "metadata": {},
   "outputs": [],
   "source": [
    "\n",
    "def a_star(N):\n",
    "\n",
    "    def total_cost(state):\n",
    "        g = state[0] #w : the weight of the node\n",
    "        h = N - len(state[1]) #number of element missing to reach the solution\n",
    "        return g + h\n",
    "\n",
    "    node_visited = 0\n",
    "    goal = set(range(N))\n",
    "    covered = frozenset()\n",
    "    solution = list()\n",
    "    frontier = PriorityQueue()\n",
    "    state = (0,covered) # ( w , set )\n",
    "    all_lists = sorted(problem(N, seed=42), key=lambda l: len(l))\n",
    "    cost = lambda s: total_cost(s) #function to compute the cost\n",
    "    for x_list in all_lists: #initial state, popolate the frontier\n",
    "        new_state = (len(x_list),frozenset(x_list))\n",
    "        if new_state not in frontier:\n",
    "            frontier.push(new_state,p = cost(new_state))\n",
    "\n",
    "    state = frontier.pop() #pop the first one\n",
    "    node_visited += 1\n",
    "    \n",
    "\n",
    "    while state[1] != goal and frontier is not None:\n",
    "        for x_list in all_lists:\n",
    "            if frozenset(x_list) not in state[1]: #the list add some coverage to the current state\n",
    "                new_state = (state[0]+len(x_list),state[1] | frozenset(x_list)) #create a new state with the list added\n",
    "                if new_state not in frontier: #if the state is not already in the frontier\n",
    "                    frontier.push(new_state,p = cost(new_state)) #add the state to the frontier\n",
    "        state = frontier.pop() #take the best one from the frontier  \n",
    "        node_visited += 1  #and increment the number of visited node\n",
    "\n",
    "    logging.info(\n",
    "    f\"A* solution for N={N} visiting {node_visited} nodes: w={state[0]} (bloat={(state[0]-N)/N*100:.0f}%)\"\n",
    "    )\n",
    "    logging.debug(f\"{state[1]}\")\n",
    "    return (state)\n",
    " "
   ]
  },
  {
   "cell_type": "code",
   "execution_count": 40,
   "metadata": {},
   "outputs": [
    {
     "name": "stderr",
     "output_type": "stream",
     "text": [
      "INFO:root:A* solution for N=5 visiting 31 nodes: w=5 (bloat=0%)\n",
      "INFO:root:A* solution for N=10 visiting 484 nodes: w=10 (bloat=0%)\n",
      "INFO:root:A* solution for N=20 visiting 3394 nodes: w=23 (bloat=15%)\n"
     ]
    },
    {
     "ename": "KeyboardInterrupt",
     "evalue": "",
     "output_type": "error",
     "traceback": [
      "\u001b[1;31m---------------------------------------------------------------------------\u001b[0m",
      "\u001b[1;31mKeyboardInterrupt\u001b[0m                         Traceback (most recent call last)",
      "Cell \u001b[1;32mIn [40], line 3\u001b[0m\n\u001b[0;32m      1\u001b[0m logging\u001b[39m.\u001b[39mgetLogger()\u001b[39m.\u001b[39msetLevel(logging\u001b[39m.\u001b[39mINFO)\n\u001b[0;32m      2\u001b[0m \u001b[39mfor\u001b[39;00m N \u001b[39min\u001b[39;00m [\u001b[39m5\u001b[39m, \u001b[39m10\u001b[39m, \u001b[39m20\u001b[39m, \u001b[39m50\u001b[39m]: \u001b[39m#100 or more are not fisible in a reasonable amount of time\u001b[39;00m\n\u001b[1;32m----> 3\u001b[0m     a_star(N)\n",
      "Cell \u001b[1;32mIn [38], line 28\u001b[0m, in \u001b[0;36ma_star\u001b[1;34m(N)\u001b[0m\n\u001b[0;32m     26\u001b[0m \u001b[39mfor\u001b[39;00m x_list \u001b[39min\u001b[39;00m all_lists:\n\u001b[0;32m     27\u001b[0m     \u001b[39mif\u001b[39;00m \u001b[39mfrozenset\u001b[39m(x_list) \u001b[39mnot\u001b[39;00m \u001b[39min\u001b[39;00m state[\u001b[39m1\u001b[39m]: \u001b[39m#the list add some coverage to the current state\u001b[39;00m\n\u001b[1;32m---> 28\u001b[0m         new_state \u001b[39m=\u001b[39m (state[\u001b[39m0\u001b[39m]\u001b[39m+\u001b[39m\u001b[39mlen\u001b[39;49m(x_list),state[\u001b[39m1\u001b[39m] \u001b[39m|\u001b[39m \u001b[39mfrozenset\u001b[39m(x_list)) \u001b[39m#create a new state with the list added\u001b[39;00m\n\u001b[0;32m     29\u001b[0m         \u001b[39mif\u001b[39;00m new_state \u001b[39mnot\u001b[39;00m \u001b[39min\u001b[39;00m frontier: \u001b[39m#if the state is not already in the frontier\u001b[39;00m\n\u001b[0;32m     30\u001b[0m             frontier\u001b[39m.\u001b[39mpush(new_state,p \u001b[39m=\u001b[39m cost(new_state)) \u001b[39m#add the state to the frontier\u001b[39;00m\n",
      "\u001b[1;31mKeyboardInterrupt\u001b[0m: "
     ]
    }
   ],
   "source": [
    "logging.getLogger().setLevel(logging.INFO)\n",
    "for N in [5, 10, 20, 50]: #100 or more are not fisible in a reasonable amount of time\n",
    "    a_star(N)\n",
    "    breadth_first(N)"
   ]
  }
 ],
 "metadata": {
  "kernelspec": {
   "display_name": "Python 3.10.7 64-bit",
   "language": "python",
   "name": "python3"
  },
  "language_info": {
   "codemirror_mode": {
    "name": "ipython",
    "version": 3
   },
   "file_extension": ".py",
   "mimetype": "text/x-python",
   "name": "python",
   "nbconvert_exporter": "python",
   "pygments_lexer": "ipython3",
   "version": "3.10.7"
  },
  "orig_nbformat": 4,
  "vscode": {
   "interpreter": {
    "hash": "369f2c481f4da34e4445cda3fffd2e751bd1c4d706f27375911949ba6bb62e1c"
   }
  }
 },
 "nbformat": 4,
 "nbformat_minor": 2
}
